{
 "cells": [
  {
   "cell_type": "code",
   "execution_count": 7,
   "id": "8654c7c5-261a-4b8d-9424-c8a6daded46a",
   "metadata": {},
   "outputs": [],
   "source": [
    "import matplotlib.pyplot as plt"
   ]
  },
  {
   "cell_type": "code",
   "execution_count": 19,
   "id": "72ae96da-aa34-4115-b5ea-95af40f7aa44",
   "metadata": {},
   "outputs": [],
   "source": [
    "from ucimlrepo import fetch_ucirepo\n",
    "  \n",
    "# fetch dataset \n",
    "breast_cancer_wisconsin_diagnostic = fetch_ucirepo(id=17) \n",
    "  \n",
    "# data (as pandas dataframes) \n",
    "X = breast_cancer_wisconsin_diagnostic.data.features \n",
    "y = breast_cancer_wisconsin_diagnostic.data.targets \n",
    "\n",
    "# metadata\n",
    "# print(breast_cancer_wisconsin_diagnostic.metadata)\n",
    "# Diagnosis (M = malignant, B = benign)\n",
    "  \n",
    "# variable information \n",
    "# print(breast_cancer_wisconsin_diagnostic.variables) "
   ]
  },
  {
   "cell_type": "code",
   "execution_count": 10,
   "id": "cdee887a-c4f2-4494-8fed-6b2816c70090",
   "metadata": {},
   "outputs": [],
   "source": [
    "training_X = X[:248]\n",
    "training_y = y[:248]\n",
    "\n",
    "testing_X = X[248:]\n",
    "testing_y = y[248:]"
   ]
  },
  {
   "cell_type": "code",
   "execution_count": null,
   "id": "44be7cef-c9d9-4900-ba8c-f1dea446eed9",
   "metadata": {},
   "outputs": [],
   "source": [
    "\n",
    "\n"
   ]
  },
  {
   "cell_type": "code",
   "execution_count": null,
   "id": "57985644-3236-4e28-9aad-6d88c62583fc",
   "metadata": {},
   "outputs": [],
   "source": []
  },
  {
   "cell_type": "code",
   "execution_count": null,
   "id": "142357fb-0520-47c6-8348-c367ed867c72",
   "metadata": {},
   "outputs": [],
   "source": []
  }
 ],
 "metadata": {
  "kernelspec": {
   "display_name": "Data Analysis venv",
   "language": "python",
   "name": "venv"
  },
  "language_info": {
   "codemirror_mode": {
    "name": "ipython",
    "version": 3
   },
   "file_extension": ".py",
   "mimetype": "text/x-python",
   "name": "python",
   "nbconvert_exporter": "python",
   "pygments_lexer": "ipython3",
   "version": "3.13.5"
  }
 },
 "nbformat": 4,
 "nbformat_minor": 5
}
